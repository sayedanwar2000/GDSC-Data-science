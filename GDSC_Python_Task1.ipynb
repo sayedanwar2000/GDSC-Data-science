{
  "cells": [
    {
      "cell_type": "markdown",
      "metadata": {
        "id": "view-in-github",
        "colab_type": "text"
      },
      "source": [
        "<a href=\"https://colab.research.google.com/github/sayedanwar2000/GDSC-Data-science/blob/main/GDSC_Python_Task1.ipynb\" target=\"_parent\"><img src=\"https://colab.research.google.com/assets/colab-badge.svg\" alt=\"Open In Colab\"/></a>"
      ]
    },
    {
      "cell_type": "markdown",
      "metadata": {
        "id": "b1Gjz_W8Xt3b"
      },
      "source": [
        "# GDSC - Data Science - Task 1"
      ]
    },
    {
      "cell_type": "markdown",
      "metadata": {
        "id": "xyJ1KxKIXt3m"
      },
      "source": [
        "**Use <code>for</code>, .split(), and <code>if</code> to create a Statement that will print out words that start with 's':**"
      ]
    },
    {
      "cell_type": "code",
      "execution_count": null,
      "metadata": {
        "id": "5IBbuFC6Xt3q"
      },
      "outputs": [],
      "source": [
        "st = 'Print only the words that start with s in this sentence'"
      ]
    },
    {
      "cell_type": "code",
      "execution_count": null,
      "metadata": {
        "colab": {
          "base_uri": "https://localhost:8080/"
        },
        "id": "jhx2FPUgXt3w",
        "outputId": "e817aa16-7d5d-442f-f957-40c0dabc366f"
      },
      "outputs": [
        {
          "output_type": "stream",
          "name": "stdout",
          "text": [
            "start\n",
            "s\n",
            "sentence\n"
          ]
        }
      ],
      "source": [
        "#Code here\n",
        "String = st.split()\n",
        "for item in String :\n",
        "    if item[0] == 's':\n",
        "        print(item)"
      ]
    },
    {
      "cell_type": "markdown",
      "metadata": {
        "id": "rBCGUmoqXt3z"
      },
      "source": [
        "______\n",
        "**Use range() to print all the even numbers from 0 to 10.**"
      ]
    },
    {
      "cell_type": "code",
      "execution_count": null,
      "metadata": {
        "colab": {
          "base_uri": "https://localhost:8080/"
        },
        "id": "NoBYPCu9Xt31",
        "outputId": "5dc75c56-8f93-4273-be60-189df455a0ad"
      },
      "outputs": [
        {
          "output_type": "stream",
          "name": "stdout",
          "text": [
            "0\n",
            "2\n",
            "4\n",
            "6\n",
            "8\n"
          ]
        }
      ],
      "source": [
        "#Code Here\n",
        "for i in range(0,10,2):\n",
        "    print(i)"
      ]
    },
    {
      "cell_type": "markdown",
      "metadata": {
        "id": "YoXrddmwXt33"
      },
      "source": [
        "___\n",
        "**Use a List Comprehension to create a list of all numbers between 1 and 50 that are divisible by 3.**"
      ]
    },
    {
      "cell_type": "code",
      "execution_count": null,
      "metadata": {
        "colab": {
          "base_uri": "https://localhost:8080/"
        },
        "id": "bCysehB2Xt35",
        "outputId": "38b8cef0-3038-460c-8fbe-5fc18063f27c"
      },
      "outputs": [
        {
          "output_type": "execute_result",
          "data": {
            "text/plain": [
              "[3, 6, 9, 12, 15, 18, 21, 24, 27, 30, 33, 36, 39, 42, 45, 48]"
            ]
          },
          "metadata": {},
          "execution_count": 5
        }
      ],
      "source": [
        "#Code in this cell\n",
        "Comprehension = []\n",
        "for i in range(3,50,3):\n",
        "    Comprehension.append(i)\n",
        "Comprehension"
      ]
    },
    {
      "cell_type": "markdown",
      "metadata": {
        "id": "BCBQqkRgXt38"
      },
      "source": [
        "_____\n",
        "**Go through the string below and if the length of a word is even print \"even!\"**"
      ]
    },
    {
      "cell_type": "code",
      "execution_count": null,
      "metadata": {
        "id": "2zwyj5UcXt3-"
      },
      "outputs": [],
      "source": [
        "st = 'Print every word in this sentence that has an even number of letters'"
      ]
    },
    {
      "cell_type": "code",
      "execution_count": null,
      "metadata": {
        "colab": {
          "base_uri": "https://localhost:8080/"
        },
        "id": "PIjEVZbBXt4B",
        "outputId": "ca80a308-c755-48c3-8b0c-8e7ac9fbf6f0"
      },
      "outputs": [
        {
          "output_type": "stream",
          "name": "stdout",
          "text": [
            "even!\n"
          ]
        }
      ],
      "source": [
        "#Code in this cell\n",
        "if len(st)%2==0:\n",
        "    print('even!')"
      ]
    },
    {
      "cell_type": "code",
      "execution_count": null,
      "metadata": {
        "id": "mz36d-EXXt4D"
      },
      "outputs": [],
      "source": [
        "#Code in this cell"
      ]
    },
    {
      "cell_type": "markdown",
      "metadata": {
        "id": "xTxvvMraXt4E"
      },
      "source": [
        "____\n",
        "**Use List Comprehension to create a list of the first letters of every word in the string below:**"
      ]
    },
    {
      "cell_type": "code",
      "execution_count": null,
      "metadata": {
        "id": "7OWGKvfyXt4G"
      },
      "outputs": [],
      "source": [
        "st = 'Create a list of the first letters of every word in this string'"
      ]
    },
    {
      "cell_type": "code",
      "execution_count": null,
      "metadata": {
        "colab": {
          "base_uri": "https://localhost:8080/"
        },
        "id": "UM_FBJirXt4I",
        "outputId": "4fa6bcfa-e4c5-4ee3-faef-8da4832b1c1a"
      },
      "outputs": [
        {
          "output_type": "execute_result",
          "data": {
            "text/plain": [
              "['C', 'a', 'l', 'o', 't', 'f', 'l', 'o', 'e', 'w', 'i', 't', 's']"
            ]
          },
          "metadata": {},
          "execution_count": 23
        }
      ],
      "source": [
        "#Code in this cell\n",
        "String = st.split()\n",
        "newString = []\n",
        "for item in String:\n",
        "    newString.append(item[0])\n",
        "newString"
      ]
    },
    {
      "cell_type": "markdown",
      "metadata": {
        "id": "Nm8A9NQnXt4J"
      },
      "source": [
        "#### Merge two Python dictionaries into one"
      ]
    },
    {
      "cell_type": "code",
      "execution_count": null,
      "metadata": {
        "id": "Y2sgpW5WXt4K"
      },
      "outputs": [],
      "source": [
        "dict1 = {'Ten': 10, 'Twenty': 20, 'Thirty': 30}\n",
        "dict2 = {'Thirty': 30, 'Fourty': 40, 'Fifty': 50}"
      ]
    },
    {
      "cell_type": "code",
      "execution_count": null,
      "metadata": {
        "id": "w07imHYSXt4M",
        "colab": {
          "base_uri": "https://localhost:8080/"
        },
        "outputId": "7701db32-f175-4b32-cf52-77b62fb9d6ac"
      },
      "outputs": [
        {
          "output_type": "execute_result",
          "data": {
            "text/plain": [
              "{'Ten': 10, 'Twenty': 20, 'Thirty': 30, 'Fourty': 40, 'Fifty': 50}"
            ]
          },
          "metadata": {},
          "execution_count": 27
        }
      ],
      "source": [
        "#Code here\n",
        "dict1.update(dict2)\n",
        "dict1"
      ]
    },
    {
      "cell_type": "code",
      "execution_count": null,
      "metadata": {
        "id": "8a-QZCHSXt4O"
      },
      "outputs": [],
      "source": [
        "#Expected output:\n",
        "# {'Ten': 10, 'Twenty': 20, 'Thirty': 30, 'Fourty': 40, 'Fifty': 50}"
      ]
    },
    {
      "cell_type": "markdown",
      "metadata": {
        "id": "LWMtXqqXXt4Q"
      },
      "source": [
        " #### Check if a value exists in a dictionary"
      ]
    },
    {
      "cell_type": "code",
      "execution_count": null,
      "metadata": {
        "id": "DknZvKdSXt4R"
      },
      "outputs": [],
      "source": [
        "sample_dict = {'a': 100, 'b': 200, 'c': 300}"
      ]
    },
    {
      "cell_type": "code",
      "execution_count": null,
      "metadata": {
        "id": "mAMsIajgXt4S",
        "colab": {
          "base_uri": "https://localhost:8080/"
        },
        "outputId": "e24f73a0-1332-41af-c4c1-aaa7dc57cb15"
      },
      "outputs": [
        {
          "output_type": "stream",
          "name": "stdout",
          "text": [
            "Yes, Value: '100' exists in dictionary\n"
          ]
        }
      ],
      "source": [
        "#Code here\n",
        "value = 100\n",
        "if any([True for k,v in sample_dict.items() if v == value]):\n",
        "    print(f\"Yes, Value: '{value}' exists in dictionary\")\n",
        "else:\n",
        "    print(f\"No, Value: '{value}' does not exists in dictionary\")"
      ]
    },
    {
      "cell_type": "markdown",
      "metadata": {
        "id": "uzRwHIsLXt4U"
      },
      "source": [
        "#### Change value of a key in a nested dictionary\n",
        "#### Write a Python program to change Brad’s salary to 8500 in the following dictionary."
      ]
    },
    {
      "cell_type": "code",
      "execution_count": null,
      "metadata": {
        "id": "Y0_otIUmXt4W"
      },
      "outputs": [],
      "source": [
        "sample_dict = {\n",
        "    'emp1': {'name': 'Jhon', 'salary': 7500},\n",
        "    'emp2': {'name': 'Emma', 'salary': 8000},\n",
        "    'emp3': {'name': 'Brad', 'salary': 500}\n",
        "}"
      ]
    },
    {
      "cell_type": "code",
      "execution_count": null,
      "metadata": {
        "id": "if_n1HpJXt4Y",
        "colab": {
          "base_uri": "https://localhost:8080/"
        },
        "outputId": "0445d9e4-2aad-43a3-aca7-0af92e5d6779"
      },
      "outputs": [
        {
          "output_type": "execute_result",
          "data": {
            "text/plain": [
              "{'emp1': {'name': 'Jhon', 'salary': 7500},\n",
              " 'emp2': {'name': 'Emma', 'salary': 8000},\n",
              " 'emp3': {'name': 'Brad', 'salary': 8500}}"
            ]
          },
          "metadata": {},
          "execution_count": 30
        }
      ],
      "source": [
        "#Code here\n",
        "sample_dict['emp3']['salary'] = 8500\n",
        "sample_dict"
      ]
    },
    {
      "cell_type": "markdown",
      "metadata": {
        "id": "tcDVOeUGXt4Z"
      },
      "source": [
        "#### Sort a tuple of tuples by 2nd item\n"
      ]
    },
    {
      "cell_type": "code",
      "execution_count": null,
      "metadata": {
        "id": "dSgq3zuOXt4a"
      },
      "outputs": [],
      "source": [
        "tuple1 = (('a', 23),('b', 37),('c', 11), ('d',29))"
      ]
    },
    {
      "cell_type": "code",
      "execution_count": null,
      "metadata": {
        "id": "lDoPO4NBXt4c",
        "colab": {
          "base_uri": "https://localhost:8080/"
        },
        "outputId": "546b4f08-6315-4018-923f-eee0573d1c08"
      },
      "outputs": [
        {
          "output_type": "execute_result",
          "data": {
            "text/plain": [
              "[('c', 11), ('a', 23), ('d', 29), ('b', 37)]"
            ]
          },
          "metadata": {},
          "execution_count": 33
        }
      ],
      "source": [
        "#Code here\n",
        "T = sorted(\n",
        "    tuple1,\n",
        "    key=lambda t: t[1]\n",
        ")\n",
        "T"
      ]
    },
    {
      "cell_type": "code",
      "execution_count": null,
      "metadata": {
        "id": "2QMFOmreXt4d"
      },
      "outputs": [],
      "source": [
        "# Expected output:\n",
        "# (('c', 11), ('a', 23), ('d', 29), ('b', 37))\n"
      ]
    },
    {
      "cell_type": "markdown",
      "metadata": {
        "id": "Zz52YNjgXt4e"
      },
      "source": [
        "#### Define a function that can accept two strings as input and concatenate them and then print it"
      ]
    },
    {
      "cell_type": "code",
      "execution_count": null,
      "metadata": {
        "id": "r7vI3-arXt4g",
        "colab": {
          "base_uri": "https://localhost:8080/"
        },
        "outputId": "387f52a4-e181-4ac1-8d8e-e60f4802b2d9"
      },
      "outputs": [
        {
          "output_type": "stream",
          "name": "stdout",
          "text": [
            "Hi sayed\n"
          ]
        }
      ],
      "source": [
        "#Code here\n",
        "def string(s1,s2):\n",
        "   S = s1 + s2\n",
        "   print(S)\n",
        "string('Hi ','sayed')"
      ]
    },
    {
      "cell_type": "markdown",
      "metadata": {
        "id": "9poBRw_5Xt4h"
      },
      "source": [
        "#### Define a function that can accept two strings as input and print the string with maximum length in console. If two strings have the same length, then the function should print all strings line by line."
      ]
    },
    {
      "cell_type": "code",
      "execution_count": null,
      "metadata": {
        "id": "PvI5uSBcXt4i",
        "colab": {
          "base_uri": "https://localhost:8080/"
        },
        "outputId": "03fcbc34-5561-4f27-a263-c3fea4a08444"
      },
      "outputs": [
        {
          "output_type": "stream",
          "name": "stdout",
          "text": [
            "sayed\n",
            "sayed\n",
            "Hi\n",
            "Hi\n"
          ]
        }
      ],
      "source": [
        "#Code here \n",
        "def string ( s1 ، s2 ) :  if len ( s1 )  >  len ( s2 ): print ( s1 ) elif len ( s2 )  >  len ( s1 ): print ( s2 ) else : print ( s1 ) print ( s2 ) ) سلسلة ( 'Hi' ، 'sayed' ) سلسلة (\n",
        "    \n",
        "       \n",
        "    \n",
        "       \n",
        "    \n",
        "       \n",
        "       \n",
        "\n",
        "'sayed','Hi')\n",
        "string('Hi','Hi')"
      ]
    },
    {
      "cell_type": "markdown",
      "metadata": {
        "id": "-wbTaGcUXt4k"
      },
      "source": [
        "### Great Job!"
      ]
    }
  ],
  "metadata": {
    "kernelspec": {
      "display_name": "Python 3 (ipykernel)",
      "language": "python",
      "name": "python3"
    },
    "language_info": {
      "codemirror_mode": {
        "name": "ipython",
        "version": 3
      },
      "file_extension": ".py",
      "mimetype": "text/x-python",
      "name": "python",
      "nbconvert_exporter": "python",
      "pygments_lexer": "ipython3",
      "version": "3.9.7"
    },
    "vscode": {
      "interpreter": {
        "hash": "0b8060bf1ed99d2673d2977a267725f7f4de79fbea82b5c269b3f3fc1f932d15"
      }
    },
    "colab": {
      "provenance": [],
      "include_colab_link": true
    }
  },
  "nbformat": 4,
  "nbformat_minor": 0
}