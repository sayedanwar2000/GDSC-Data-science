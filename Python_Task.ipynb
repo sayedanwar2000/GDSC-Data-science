{
  "nbformat": 4,
  "nbformat_minor": 0,
  "metadata": {
    "colab": {
      "provenance": [],
      "include_colab_link": true
    },
    "kernelspec": {
      "name": "python3",
      "display_name": "Python 3"
    },
    "language_info": {
      "name": "python"
    }
  },
  "cells": [
    {
      "cell_type": "markdown",
      "metadata": {
        "id": "view-in-github",
        "colab_type": "text"
      },
      "source": [
        "<a href=\"https://colab.research.google.com/github/sayedanwar2000/GDSC-Data-science/blob/main/Python_Task.ipynb\" target=\"_parent\"><img src=\"https://colab.research.google.com/assets/colab-badge.svg\" alt=\"Open In Colab\"/></a>"
      ]
    },
    {
      "cell_type": "markdown",
      "source": [
        "## **GDSC Al-azhar | Data Science Training**"
      ],
      "metadata": {
        "id": "h78KKq0C6253"
      }
    },
    {
      "cell_type": "markdown",
      "source": [
        "### Print words that start with : **s**"
      ],
      "metadata": {
        "id": "oGvBNkHGCa1_"
      }
    },
    {
      "cell_type": "code",
      "source": [
        "st = 'Print only the words that start with s in this sentence'"
      ],
      "metadata": {
        "id": "AnLNDKON7Z0Z"
      },
      "execution_count": null,
      "outputs": []
    },
    {
      "cell_type": "code",
      "source": [
        "#Code here\n",
        "i=0\n",
        "j=0\n",
        "for char in st:\n",
        "  if char == 's':\n",
        "    j += 1\n",
        "  if j == 3:\n",
        "    break\n",
        "  i += 1\n",
        "\n",
        "print(st[i:])\n",
        "  "
      ],
      "metadata": {
        "id": "ct4NS5OEHSfu",
        "outputId": "f3225935-4999-4ad8-8c22-61f755efd24b",
        "colab": {
          "base_uri": "https://localhost:8080/"
        }
      },
      "execution_count": null,
      "outputs": [
        {
          "output_type": "stream",
          "name": "stdout",
          "text": [
            "s in this sentence\n"
          ]
        }
      ]
    },
    {
      "cell_type": "markdown",
      "source": [
        "### Find the most frequent value in a list\n"
      ],
      "metadata": {
        "id": "4bPAdz8MBnTl"
      }
    },
    {
      "cell_type": "code",
      "source": [
        "test = [1, 2, 3, 9, 2, 7, 3, 5, 9, 9, 9] "
      ],
      "metadata": {
        "id": "NiWVAgc6BcuE"
      },
      "execution_count": null,
      "outputs": []
    },
    {
      "cell_type": "code",
      "source": [
        "#Code here\n",
        "from collections import Counter\n",
        " \n",
        "\n",
        "occurence_count = Counter(test)\n",
        "print(occurence_count.most_common(1)[0][0])"
      ],
      "metadata": {
        "id": "fghCsGM3Bc1G",
        "outputId": "de338804-fc21-4799-ecd3-9daa10739fcc",
        "colab": {
          "base_uri": "https://localhost:8080/"
        }
      },
      "execution_count": null,
      "outputs": [
        {
          "output_type": "stream",
          "name": "stdout",
          "text": [
            "9\n"
          ]
        }
      ]
    },
    {
      "cell_type": "markdown",
      "source": [
        "### Use range() to print all the even numbers from 0 to 10."
      ],
      "metadata": {
        "id": "bHYZLtkeDnJn"
      }
    },
    {
      "cell_type": "code",
      "source": [
        "#Code here\n",
        "i = list(range(0,11))\n",
        "print(i)"
      ],
      "metadata": {
        "id": "hnhR4hUKBdRW",
        "outputId": "729f9ee0-63aa-422f-dcf4-c00832c1face",
        "colab": {
          "base_uri": "https://localhost:8080/"
        }
      },
      "execution_count": null,
      "outputs": [
        {
          "output_type": "stream",
          "name": "stdout",
          "text": [
            "[0, 1, 2, 3, 4, 5, 6, 7, 8, 9, 10]\n"
          ]
        }
      ]
    },
    {
      "cell_type": "markdown",
      "source": [
        "### Use List comprehension to create a list of all numbers between 1 and 50 that are divisible by 3."
      ],
      "metadata": {
        "id": "WzihSKexD8t8"
      }
    },
    {
      "cell_type": "code",
      "source": [
        "#Code here\n",
        "i = list(range(3,51,3))\n",
        "print(i)"
      ],
      "metadata": {
        "id": "uiXokoUBGO9g",
        "outputId": "71c1882b-fd56-487e-d437-20930b00c913",
        "colab": {
          "base_uri": "https://localhost:8080/"
        }
      },
      "execution_count": null,
      "outputs": [
        {
          "output_type": "stream",
          "name": "stdout",
          "text": [
            "[3, 6, 9, 12, 15, 18, 21, 24, 27, 30, 33, 36, 39, 42, 45, 48]\n"
          ]
        }
      ]
    },
    {
      "cell_type": "markdown",
      "source": [
        "____\n",
        "### Use a List Comprehension to create a list of the first letters of every word in the string below:"
      ],
      "metadata": {
        "id": "B9ymkUceGSXf"
      }
    },
    {
      "cell_type": "code",
      "source": [
        "st = 'Create a list of the first letters of every word in this string'"
      ],
      "metadata": {
        "id": "NHllckuCG6Cd"
      },
      "execution_count": null,
      "outputs": []
    },
    {
      "cell_type": "code",
      "source": [
        "#Code here\n",
        "chars = []\n",
        "st = st.split()\n",
        "for char in st:\n",
        "  chars.append(char[0])\n",
        "\n",
        "print(chars)"
      ],
      "metadata": {
        "id": "p4F4Ef-0G3p6",
        "outputId": "f745c3fb-b8c9-4cd7-eeda-4fb0be38cdb4",
        "colab": {
          "base_uri": "https://localhost:8080/"
        }
      },
      "execution_count": null,
      "outputs": [
        {
          "output_type": "stream",
          "name": "stdout",
          "text": [
            "['C', 'a', 'l', 'o', 't', 'f', 'l', 'o', 'e', 'w', 'i', 't', 's']\n"
          ]
        }
      ]
    },
    {
      "cell_type": "markdown",
      "source": [
        "### Go through the string below and if the length of a word is even print \"even!\""
      ],
      "metadata": {
        "id": "PC7d_colGJmL"
      }
    },
    {
      "cell_type": "code",
      "source": [
        "st = 'Print every word in this sentence that has an even number of letters'"
      ],
      "metadata": {
        "id": "PhdIp7DXHI74"
      },
      "execution_count": null,
      "outputs": []
    },
    {
      "cell_type": "code",
      "source": [
        "#Code here\n",
        "st = st.split()\n",
        "for char in st:\n",
        "  if len(char)%2 == 0:\n",
        "    print('even')\n",
        "\n"
      ],
      "metadata": {
        "id": "DlZFILeDBde4",
        "outputId": "13ae927a-90c5-4f18-e0fc-86936689426a",
        "colab": {
          "base_uri": "https://localhost:8080/"
        }
      },
      "execution_count": null,
      "outputs": [
        {
          "output_type": "stream",
          "name": "stdout",
          "text": [
            "even\n",
            "even\n",
            "even\n",
            "even\n",
            "even\n",
            "even\n",
            "even\n",
            "even\n",
            "even\n"
          ]
        }
      ]
    },
    {
      "cell_type": "markdown",
      "source": [
        "**Using Code**\n",
        "### How to Update List & dict \n",
        "### how to delete elements From List \n",
        "### advantage of set()"
      ],
      "metadata": {
        "id": "vOcpHFeKIDLW"
      }
    },
    {
      "cell_type": "code",
      "source": [
        "#Code here"
      ],
      "metadata": {
        "id": "F08boGrLEDM3"
      },
      "execution_count": null,
      "outputs": []
    },
    {
      "cell_type": "markdown",
      "source": [
        "### Using lambda : Sum 3 nums"
      ],
      "metadata": {
        "id": "O30MoQfXP7dC"
      }
    },
    {
      "cell_type": "code",
      "source": [
        "#Code here"
      ],
      "metadata": {
        "id": "oe8unH9RQI7T"
      },
      "execution_count": null,
      "outputs": []
    },
    {
      "cell_type": "markdown",
      "source": [
        "### how to sort List \n",
        "\n",
        "```\n",
        "thislist = [100, 50, 65, 82, 23]\n",
        "```"
      ],
      "metadata": {
        "id": "Oj2JQ9_BQXim"
      }
    },
    {
      "cell_type": "code",
      "source": [
        "#Code here\n",
        "thislist = [100, 50, 65, 82, 23]\n",
        "thislist.sort()\n",
        "thislist"
      ],
      "metadata": {
        "id": "7dusZEDKQkkU",
        "colab": {
          "base_uri": "https://localhost:8080/"
        },
        "outputId": "ce1dc4cb-9db0-4f8c-c902-5eab5e054636"
      },
      "execution_count": 4,
      "outputs": [
        {
          "output_type": "execute_result",
          "data": {
            "text/plain": [
              "[23, 50, 65, 82, 100]"
            ]
          },
          "metadata": {},
          "execution_count": 4
        }
      ]
    },
    {
      "cell_type": "markdown",
      "source": [
        "### Reverse List\n",
        "```\n",
        "thislist = [100, 50, 65, 82, 23]\n",
        "```"
      ],
      "metadata": {
        "id": "vM0XHRWMQ9KM"
      }
    },
    {
      "cell_type": "code",
      "source": [
        "#Code here\n",
        "thislist.sort(reverse=True)\n",
        "thislist"
      ],
      "metadata": {
        "id": "bMs5iLPMRBDe",
        "colab": {
          "base_uri": "https://localhost:8080/"
        },
        "outputId": "2cb91745-9317-4401-ed9c-5c90a5da08be"
      },
      "execution_count": 5,
      "outputs": [
        {
          "output_type": "execute_result",
          "data": {
            "text/plain": [
              "[100, 82, 65, 50, 23]"
            ]
          },
          "metadata": {},
          "execution_count": 5
        }
      ]
    },
    {
      "cell_type": "markdown",
      "source": [
        "### Write a Python function that takes a list and returns a new list with unique elements of the first list."
      ],
      "metadata": {
        "id": "MNB98xc-IQhB"
      }
    },
    {
      "cell_type": "markdown",
      "source": [
        "```\n",
        "    Sample List : [1,1,1,1,2,2,3,3,3,3,4,5]\n",
        "    Unique List : [1, 2, 3, 4, 5]\n",
        "```\n",
        "\n"
      ],
      "metadata": {
        "id": "_jMLHcgXKLw6"
      }
    },
    {
      "cell_type": "code",
      "source": [
        "#Code here\n",
        "def Remove_Duplicates(lis):\n",
        "  mylist = list(dict.fromkeys(lis))\n",
        "  return mylist\n",
        "\n",
        "\n",
        "Sample_List = [1,1,1,1,2,2,3,3,3,3,4,5]\n",
        "Unique_List = Remove_Duplicates(Sample_List)\n",
        "Unique_List"
      ],
      "metadata": {
        "id": "vT6IWYJHIHSp",
        "colab": {
          "base_uri": "https://localhost:8080/"
        },
        "outputId": "697d9c74-b9e7-4b2b-bddc-64f3efaa7639"
      },
      "execution_count": 6,
      "outputs": [
        {
          "output_type": "execute_result",
          "data": {
            "text/plain": [
              "[1, 2, 3, 4, 5]"
            ]
          },
          "metadata": {},
          "execution_count": 6
        }
      ]
    },
    {
      "cell_type": "markdown",
      "source": [
        "### Write a Python function that accepts a string and calculates the number of upper case letters and lower case letters"
      ],
      "metadata": {
        "id": "DztDyNXyJbj2"
      }
    },
    {
      "cell_type": "markdown",
      "source": [
        "\n",
        "    Sample String : 'Hello Mr. Rogers, how are you this fine Tuesday?'\n",
        "    Expected Output : \n",
        "    No. of Upper case characters : 4\n",
        "    No. of Lower case Characters : 33\n",
        "\n",
        "If you feel ambitious, explore the Collections module to solve this problem!"
      ],
      "metadata": {
        "id": "yAmH2jKNIYNq"
      }
    },
    {
      "cell_type": "code",
      "source": [
        "#Code here\n",
        "Sample_String = 'Hello Mr. Rogers, how are you this fine Tuesday?'\n",
        "\n",
        "def calculates_the_number_of_upper_and_lower_case(s):\n",
        "  I = 0\n",
        "  i = 0\n",
        "  for litter in s:\n",
        "    if litter.isupper() :\n",
        "      I += 1\n",
        "    elif litter.islower() :\n",
        "      i += 1\n",
        "\n",
        "  print('No. of Upper case characters : '+str(I))\n",
        "  print('No. of Lower case Characters : '+str(i))\n",
        "\n",
        "\n",
        "calculates_the_number_of_upper_and_lower_case(Sample_String)"
      ],
      "metadata": {
        "id": "VkiaLfb9GIkR",
        "colab": {
          "base_uri": "https://localhost:8080/"
        },
        "outputId": "957bb483-4a0b-4072-d177-454933160571"
      },
      "execution_count": 9,
      "outputs": [
        {
          "output_type": "stream",
          "name": "stdout",
          "text": [
            "No. of Upper case characters : 4\n",
            "No. of Lower case Characters : 33\n"
          ]
        }
      ]
    },
    {
      "cell_type": "markdown",
      "source": [
        "### Write a Python function to multiply all the numbers in a list."
      ],
      "metadata": {
        "id": "56LY3pT-KUg4"
      }
    },
    {
      "cell_type": "markdown",
      "source": [
        "```\n",
        "Sample List : [1, 2, 3, -4]\n",
        "Expected Output : -24\n",
        "```\n",
        "\n"
      ],
      "metadata": {
        "id": "MP9hcWP-KeuB"
      }
    },
    {
      "cell_type": "code",
      "source": [
        "#Code here"
      ],
      "metadata": {
        "id": "s4-V2IhRKbb2"
      },
      "execution_count": null,
      "outputs": []
    },
    {
      "cell_type": "markdown",
      "source": [
        "### Write a Python function that checks whether a passed string is palindrome or not"
      ],
      "metadata": {
        "id": "kB1vJAIhKmoB"
      }
    },
    {
      "cell_type": "code",
      "source": [
        "#Code here"
      ],
      "metadata": {
        "id": "AEHGBqMyLT42"
      },
      "execution_count": null,
      "outputs": []
    },
    {
      "cell_type": "markdown",
      "source": [
        "### Open a file, name it 'test.txt' and write 'I Love python' for 5 times in it then close it."
      ],
      "metadata": {
        "id": "pzD61QThMWG-"
      }
    },
    {
      "cell_type": "code",
      "source": [
        "#Code here"
      ],
      "metadata": {
        "id": "n5rvlxjYMUrN"
      },
      "execution_count": null,
      "outputs": []
    },
    {
      "cell_type": "markdown",
      "source": [
        "### Handle the exception thrown by the code below by using try and except blocks.\n"
      ],
      "metadata": {
        "id": "mXrPABZVM9Gr"
      }
    },
    {
      "cell_type": "code",
      "source": [
        "for i in ['a','b','c']:\n",
        "    print(i**2)"
      ],
      "metadata": {
        "colab": {
          "base_uri": "https://localhost:8080/",
          "height": 190
        },
        "id": "a7IC5KxjNByl",
        "outputId": "45bb0ec4-931b-4ebc-9706-2c0962bca72b"
      },
      "execution_count": null,
      "outputs": [
        {
          "output_type": "error",
          "ename": "TypeError",
          "evalue": "ignored",
          "traceback": [
            "\u001b[0;31m---------------------------------------------------------------------------\u001b[0m",
            "\u001b[0;31mTypeError\u001b[0m                                 Traceback (most recent call last)",
            "\u001b[0;32m<ipython-input-2-c35f41ad7311>\u001b[0m in \u001b[0;36m<module>\u001b[0;34m\u001b[0m\n\u001b[1;32m      1\u001b[0m \u001b[0;32mfor\u001b[0m \u001b[0mi\u001b[0m \u001b[0;32min\u001b[0m \u001b[0;34m[\u001b[0m\u001b[0;34m'a'\u001b[0m\u001b[0;34m,\u001b[0m\u001b[0;34m'b'\u001b[0m\u001b[0;34m,\u001b[0m\u001b[0;34m'c'\u001b[0m\u001b[0;34m]\u001b[0m\u001b[0;34m:\u001b[0m\u001b[0;34m\u001b[0m\u001b[0;34m\u001b[0m\u001b[0m\n\u001b[0;32m----> 2\u001b[0;31m     \u001b[0mprint\u001b[0m\u001b[0;34m(\u001b[0m\u001b[0mi\u001b[0m\u001b[0;34m**\u001b[0m\u001b[0;36m2\u001b[0m\u001b[0;34m)\u001b[0m\u001b[0;34m\u001b[0m\u001b[0;34m\u001b[0m\u001b[0m\n\u001b[0m",
            "\u001b[0;31mTypeError\u001b[0m: unsupported operand type(s) for ** or pow(): 'str' and 'int'"
          ]
        }
      ]
    },
    {
      "cell_type": "code",
      "source": [
        "#Code here\n",
        "try:\n",
        "  for i in ['a','b','c']:\n",
        "    print(i**2)\n",
        "except :\n",
        "  print('TypeError')"
      ],
      "metadata": {
        "id": "SMwDDxkOZwI8",
        "colab": {
          "base_uri": "https://localhost:8080/"
        },
        "outputId": "42318f9f-aede-42a0-fdc1-005ebe3f48ad"
      },
      "execution_count": 12,
      "outputs": [
        {
          "output_type": "stream",
          "name": "stdout",
          "text": [
            "TypeError\n"
          ]
        }
      ]
    },
    {
      "cell_type": "markdown",
      "source": [],
      "metadata": {
        "id": "IJK0ED4HNJYZ"
      }
    },
    {
      "cell_type": "markdown",
      "source": [
        "### Handle the exception thrown by the code below by using try and except blocks. Then use a finally block to print 'All Done.'"
      ],
      "metadata": {
        "id": "eTBb4dXtNzGc"
      }
    },
    {
      "cell_type": "code",
      "source": [
        "x = 5\n",
        "y = 0\n",
        "\n",
        "z = x/y"
      ],
      "metadata": {
        "colab": {
          "base_uri": "https://localhost:8080/",
          "height": 208
        },
        "id": "fU7fUfmjORSP",
        "outputId": "dafc3a05-2c2f-486a-f5dd-aa61fe31e00c"
      },
      "execution_count": null,
      "outputs": [
        {
          "output_type": "error",
          "ename": "ZeroDivisionError",
          "evalue": "ignored",
          "traceback": [
            "\u001b[0;31m---------------------------------------------------------------------------\u001b[0m",
            "\u001b[0;31mZeroDivisionError\u001b[0m                         Traceback (most recent call last)",
            "\u001b[0;32m<ipython-input-4-6f985c4c80dd>\u001b[0m in \u001b[0;36m<module>\u001b[0;34m\u001b[0m\n\u001b[1;32m      2\u001b[0m \u001b[0my\u001b[0m \u001b[0;34m=\u001b[0m \u001b[0;36m0\u001b[0m\u001b[0;34m\u001b[0m\u001b[0;34m\u001b[0m\u001b[0m\n\u001b[1;32m      3\u001b[0m \u001b[0;34m\u001b[0m\u001b[0m\n\u001b[0;32m----> 4\u001b[0;31m \u001b[0mz\u001b[0m \u001b[0;34m=\u001b[0m \u001b[0mx\u001b[0m\u001b[0;34m/\u001b[0m\u001b[0my\u001b[0m\u001b[0;34m\u001b[0m\u001b[0;34m\u001b[0m\u001b[0m\n\u001b[0m",
            "\u001b[0;31mZeroDivisionError\u001b[0m: division by zero"
          ]
        }
      ]
    },
    {
      "cell_type": "code",
      "source": [
        "#Code here\n",
        "try:\n",
        "  x = 5\n",
        "  y = 0\n",
        "\n",
        "  z = x/y\n",
        "except :\n",
        "  print('ZeroDivisionError')\n",
        "finally:\n",
        "  print(\"All Done\")"
      ],
      "metadata": {
        "id": "F9kUJtPpN4Ku",
        "colab": {
          "base_uri": "https://localhost:8080/"
        },
        "outputId": "1443c1fe-ac6f-4e85-ccdb-d55142aac3b7"
      },
      "execution_count": 11,
      "outputs": [
        {
          "output_type": "stream",
          "name": "stdout",
          "text": [
            "ZeroDivisionError\n",
            "All Done\n"
          ]
        }
      ]
    },
    {
      "cell_type": "markdown",
      "source": [
        "### **It does not matter how slowly you go as long as you do not stop.**\n",
        "\n",
        "**feel free to contact me if you need any further information**\n",
        "[LinkedIn](https://www.linkedin.com/in/mohamed-ibrahim-513531202/)\n"
      ],
      "metadata": {
        "id": "MJVhZZLSZa4Q"
      }
    }
  ]
}